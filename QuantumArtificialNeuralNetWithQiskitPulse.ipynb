{
  "nbformat": 4,
  "nbformat_minor": 0,
  "metadata": {
    "colab": {
      "name": "QuantumArtificialNeuralNetWithQiskitPulse.ipynb",
      "private_outputs": true,
      "provenance": [],
      "collapsed_sections": [],
      "include_colab_link": true
    },
    "kernelspec": {
      "name": "python3",
      "display_name": "Python 3"
    },
    "language_info": {
      "name": "python"
    }
  },
  "cells": [
    {
      "cell_type": "markdown",
      "metadata": {
        "id": "view-in-github",
        "colab_type": "text"
      },
      "source": [
        "<a href=\"https://colab.research.google.com/github/kcelestinomaria/qcHackChallenge/blob/main/QuantumArtificialNeuralNetWithQiskitPulse.ipynb\" target=\"_parent\"><img src=\"https://colab.research.google.com/assets/colab-badge.svg\" alt=\"Open In Colab\"/></a>"
      ]
    },
    {
      "cell_type": "markdown",
      "metadata": {
        "id": "z7qhDn46n_15"
      },
      "source": [
        "In Our Work below, our intention was to implement a Quantum Artificial Neural Network, and then use Qiskit Pulse in order to control noise and reduce errors. Previous work has shown Quantum Artificial Neural Networks as a possible application of quantum circuits in AI. However, there has not been any noticed advantage when Quantum Artificial Neural Networks have been implemented and ran side by side to Classical Artificial Neural Networks. This has largely been because of the noise that affects the qubits from the environment. We therefore wanted to use Qiskit Pulse, and by accessing the low-level part of the quantum device through the IBM Cloud, we could then reduce noise and then test to see if there would be an effect of the performance of the Quantum Artificial Neural Network"
      ]
    },
    {
      "cell_type": "markdown",
      "metadata": {
        "id": "t3767jHsdWPN"
      },
      "source": [
        "We implemented a simple quantum-classical neural network to find any advantage over a simple neural network"
      ]
    },
    {
      "cell_type": "markdown",
      "metadata": {
        "id": "luZczMeYeKrJ"
      },
      "source": [
        "First, let's import the needed libraries"
      ]
    },
    {
      "cell_type": "code",
      "metadata": {
        "id": "ITGUY4pGdTtV"
      },
      "source": [
        "import torch\n",
        "\n",
        "from torch.autograd import Function\n",
        "from torchvision import datasets, transforms\n",
        "import torch.optim as optim\n",
        "import torch.nn as nn\n",
        "import torch.nn.functional as F\n",
        "\n",
        "import matplotlib.pyplot as plt\n",
        "import numpy as np\n",
        "\n",
        "import qiskit\n",
        "from qiskit.tools.jupyter import *\n",
        "from qiskit import *\n",
        " from qiskit.scheduler import measure\n",
        "\n",
        "from qiskit.visualization import *\n",
        "from qiskit import pulse            # This is where we access all of our Pulse features!\n",
        "from qiskit.pulse import Play\n",
        "# This Pulse module helps us build sampled pulses for common pulse shapes\n",
        "from qiskit.pulse import library as pulse_lib"
      ],
      "execution_count": null,
      "outputs": []
    },
    {
      "cell_type": "markdown",
      "metadata": {
        "id": "wXIGx2EheU4V"
      },
      "source": [
        "We then implement Quantum functions using qiskit modularized in a class. To keep it simple, we used a 1-qubit circuit with one trainable quantum parameter"
      ]
    },
    {
      "cell_type": "code",
      "metadata": {
        "id": "LbjtZLuudULY"
      },
      "source": [
        "class QuantumCircuit:\n",
        "    \"\"\" \n",
        "   To capitalize on Python's OOP features, we use this as a simple way to interface or rather represent the quantum function\n",
        "    \"\"\"\n",
        "    \n",
        "    def __init__(self, n_qubits, backend, shots):\n",
        "        # Circuit initialization and definition\n",
        "        self._circuit = qiskit.QuantumCircuit(n_qubits)\n",
        "        \n",
        "        all_qubits = [i for i in range(n_qubits)]\n",
        "        self.theta = qiskit.circuit.Parameter('theta')\n",
        "        \n",
        "        self._circuit.h(all_qubits)\n",
        "        self._circuit.barrier()\n",
        "        self._circuit.ry(self.theta, all_qubits)\n",
        "        \n",
        "        self._circuit.measure_all()\n",
        "       \n",
        "        self.backend = backend\n",
        "        self.shots = shots\n",
        "    \n",
        "    def run(self, thetas):\n",
        "        t_qc = transpile(self._circuit,\n",
        "                         self.backend)\n",
        "        qobj = assemble(t_qc,\n",
        "                        shots=self.shots,\n",
        "                        parameter_binds = [{self.theta: theta} for theta in thetas])\n",
        "        job = self.backend.run(qobj)\n",
        "        result = job.result().get_counts(self._circuit)\n",
        "        \n",
        "        counts = np.array(list(result.values()))\n",
        "        states = np.array(list(result.keys())).astype(float)\n",
        "        \n",
        "        # Computing probabilities for each state\n",
        "        probabilities = counts / self.shots\n",
        "        # Get state expectation\n",
        "        expectation = np.sum(states * probabilities)\n",
        "        \n",
        "        return np.array([expectation])"
      ],
      "execution_count": null,
      "outputs": []
    },
    {
      "cell_type": "markdown",
      "metadata": {
        "id": "2Xsi2xrafx3d"
      },
      "source": [
        "We then test the above implementation of the quantum circuit against a real quantum computer on the IBM Cloud"
      ]
    },
    {
      "cell_type": "code",
      "metadata": {
        "id": "Sf1Xx7JedUQl"
      },
      "source": [
        "simulator = qiskit.Aer.get_backend('qasm_simulator')\n",
        "\n",
        "circuit = QuantumCircuit(1, simulator, 100)\n",
        "print('Expected value for rotation pi {}'.format(circuit.run([np.pi])[0]))\n",
        "circuit._circuit.draw()"
      ],
      "execution_count": null,
      "outputs": []
    },
    {
      "cell_type": "markdown",
      "metadata": {
        "id": "FNQRlHX6gM7O"
      },
      "source": [
        "We will also implement a hybrid quantum-classical function"
      ]
    },
    {
      "cell_type": "code",
      "metadata": {
        "id": "E8vxMMhldUVx"
      },
      "source": [
        "class HybridFunction(Function):\n",
        "    \"\"\" Defining a hybrid quantum-classical funtion \"\"\"\n",
        "    \n",
        "    @staticmethod\n",
        "    def forward(ctx, input, quantum_circuit, shift):\n",
        "        \"\"\" Forward propagation computation \"\"\"\n",
        "        ctx.shift = shift\n",
        "        ctx.quantum_circuit = quantum_circuit\n",
        "\n",
        "        expectation_z = ctx.quantum_circuit.run(input[0].tolist())\n",
        "        result = torch.tensor([expectation_z])\n",
        "        ctx.save_for_backward(input, result)\n",
        "\n",
        "        return result\n",
        "        \n",
        "    @staticmethod\n",
        "    def back(ctx, grad_output):\n",
        "        \"\"\" Backward propagation computation \"\"\"\n",
        "        input, expectation_z = ctx.saved_tensors\n",
        "        input_list = np.array(input.tolist())\n",
        "        \n",
        "        shift_right = input_list + np.ones(input_list.shape) * ctx.shift\n",
        "        shift_left = input_list - np.ones(input_list.shape) * ctx.shift\n",
        "        \n",
        "        gradients = []\n",
        "        for i in range(len(input_list)):\n",
        "            expectation_right = ctx.quantum_circuit.run(shift_right[i])\n",
        "            expectation_left  = ctx.quantum_circuit.run(shift_left[i])\n",
        "            \n",
        "            gradient = torch.tensor([expectation_right]) - torch.tensor([expectation_left])\n",
        "            gradients.append(gradient)\n",
        "        gradients = np.array([gradients]).T\n",
        "        return torch.tensor([gradients]).float() * grad_output.float(), None, None\n",
        "\n",
        "class Hybrid(nn.Module):\n",
        "    \"\"\" Hybrid quantum - classical layer definition \"\"\"\n",
        "    \n",
        "    def __init__(self, backend, shots, shift):\n",
        "        super(Hybrid, self).__init__()\n",
        "        self.quantum_circuit = QuantumCircuit(1, backend, shots)\n",
        "        self.shift = shift\n",
        "        \n",
        "    def forward(self, input):\n",
        "        return HybridFunction.apply(input, self.quantum_circuit, self.shift)"
      ],
      "execution_count": null,
      "outputs": []
    },
    {
      "cell_type": "markdown",
      "metadata": {
        "id": "xrWvpKwrib77"
      },
      "source": [
        "In order to now run our neural networks, we need to import and process some data"
      ]
    },
    {
      "cell_type": "markdown",
      "metadata": {
        "id": "DRE8KpvqikUs"
      },
      "source": [
        "As such, We created a simple hybrid neural network to classify images of two types of digits (0 or 1) from the Deep Learning practitioner Yann Lecun's data database [MNIST dataset](http://yann.lecun.com/exdb/mnist/). We first load MNIST and filter for pictures containing 1's and 0's. These will serve as inputs for our neural network to classify."
      ]
    },
    {
      "cell_type": "markdown",
      "metadata": {
        "id": "zy4Q0o1ai77v"
      },
      "source": [
        "First, we load the training data"
      ]
    },
    {
      "cell_type": "code",
      "metadata": {
        "id": "9zDXh2Y-jAjr"
      },
      "source": [
        "\n",
        "n_samples = 100\n",
        "\n",
        "X_train = datasets.MNIST(root='./data', train=True, download=True,\n",
        "                         transform=transforms.Compose([transforms.ToTensor()]))\n",
        "\n",
        "idx = np.append(np.where(X_train.targets == 0)[0][:n_samples], \n",
        "                np.where(X_train.targets == 1)[0][:n_samples])\n",
        "\n",
        "X_train.data = X_train.data[idx]\n",
        "X_train.targets = X_train.targets[idx]\n",
        "\n",
        "train_loader = torch.utils.data.DataLoader(X_train, batch_size=1, shuffle=True)"
      ],
      "execution_count": null,
      "outputs": []
    },
    {
      "cell_type": "code",
      "metadata": {
        "id": "FvlQa5MxjRGV"
      },
      "source": [
        "n_samples_show = 6\n",
        "\n",
        "data_iter = iter(train_loader)\n",
        "fig, axes = plt.subplots(nrows=1, ncols=n_samples_show, figsize=(10, 3))\n",
        "\n",
        "while n_samples_show > 0:\n",
        "    images, targets = data_iter.__next__()\n",
        "\n",
        "    axes[n_samples_show - 1].imshow(images[0].numpy().squeeze(), cmap='gray')\n",
        "    axes[n_samples_show - 1].set_xticks([])\n",
        "    axes[n_samples_show - 1].set_yticks([])\n",
        "    axes[n_samples_show - 1].set_title(\"Labeled: {}\".format(targets.item()))\n",
        "    \n",
        "    n_samples_show -= 1"
      ],
      "execution_count": null,
      "outputs": []
    },
    {
      "cell_type": "markdown",
      "metadata": {
        "id": "b_pYDWYejWB_"
      },
      "source": [
        "Next, we load some data for testing"
      ]
    },
    {
      "cell_type": "code",
      "metadata": {
        "id": "lHcbcPGVjZNW"
      },
      "source": [
        "n_samples = 50\n",
        "\n",
        "X_test = datasets.MNIST(root='./data', train=False, download=True,\n",
        "                        transform=transforms.Compose([transforms.ToTensor()]))\n",
        "\n",
        "idx = np.append(np.where(X_test.targets == 0)[0][:n_samples], \n",
        "                np.where(X_test.targets == 1)[0][:n_samples])\n",
        "\n",
        "X_test.data = X_test.data[idx]\n",
        "X_test.targets = X_test.targets[idx]\n",
        "\n",
        "test_loader = torch.utils.data.DataLoader(X_test, batch_size=1, shuffle=True)"
      ],
      "execution_count": null,
      "outputs": []
    },
    {
      "cell_type": "markdown",
      "metadata": {
        "id": "b0N1UVAoZ0Zy"
      },
      "source": [
        "In order to now realize our fully-fledged quantum-classical(hybrid) neural network, This quantum parameter will be inserted into a classical neural network along with the other classical parameters to form "
      ]
    },
    {
      "cell_type": "code",
      "metadata": {
        "id": "hmqIEGDDj4KP"
      },
      "source": [
        "class Neuralnet(nn.Module):\n",
        "    def __init__(self):\n",
        "        super(Net, self).__init__()\n",
        "        self.conv1 = nn.Conv2d(1, 6, kernel_size=5)\n",
        "        self.conv2 = nn.Conv2d(6, 16, kernel_size=5)\n",
        "        self.dropout = nn.Dropout2d()\n",
        "        self.fc1 = nn.Linear(256, 64)\n",
        "        self.fc2 = nn.Linear(64, 1)\n",
        "        self.hybrid = Hybrid(qiskit.Aer.get_backend('qasm_simulator'), 100, np.pi / 2)\n",
        "\n",
        "    def forward(self, x):\n",
        "        x = F.relu(self.conv1(x))\n",
        "        x = F.max_pool2d(x, 2)\n",
        "        x = F.relu(self.conv2(x))\n",
        "        x = F.max_pool2d(x, 2)\n",
        "        x = self.dropout(x)\n",
        "        x = x.view(1, -1)\n",
        "        x = F.relu(self.fc1(x))\n",
        "        x = self.fc2(x)\n",
        "        x = self.hybrid(x)\n",
        "        return torch.cat((x, 1 - x), -1)\n"
      ],
      "execution_count": null,
      "outputs": []
    },
    {
      "cell_type": "markdown",
      "metadata": {
        "id": "BmHrh2OwkF8o"
      },
      "source": [
        "Next, let us train our neural network"
      ]
    },
    {
      "cell_type": "code",
      "metadata": {
        "id": "jG3TzaOnkJCB"
      },
      "source": [
        "model = Neuralnet()\n",
        "optimizer = optim.Adam(model.parameters(), lr=0.001)\n",
        "loss_func = nn.NLLLoss()\n",
        "\n",
        "epochs = 20\n",
        "loss_list = []\n",
        "\n",
        "model.train()\n",
        "for epoch in range(epochs):\n",
        "    total_loss = []\n",
        "    for batch_idx, (data, target) in enumerate(train_loader):\n",
        "        optimizer.zero_grad()\n",
        "        # Forward pass\n",
        "        output = model(data)\n",
        "        # Calculating loss\n",
        "        loss = loss_func(output, target)\n",
        "        # Backward pass\n",
        "        loss.backward()\n",
        "        # Optimize the weights\n",
        "        optimizer.step()\n",
        "        \n",
        "        total_loss.append(loss.item())\n",
        "    loss_list.append(sum(total_loss)/len(total_loss))\n",
        "    print('Training [{:.0f}%]\\tLoss: {:.4f}'.format(\n",
        "        100. * (epoch + 1) / epochs, loss_list[-1]))"
      ],
      "execution_count": null,
      "outputs": []
    },
    {
      "cell_type": "markdown",
      "metadata": {
        "id": "C3JSFhWskXQz"
      },
      "source": [
        "To get a visual representation of the training process, we use matplotlib to plot labs"
      ]
    },
    {
      "cell_type": "code",
      "metadata": {
        "id": "2_B_fcuakVck"
      },
      "source": [
        "plt.plot(loss_list)\n",
        "plt.title('Hybrid NN Training Convergence')\n",
        "plt.xlabel('Training Iterations')\n",
        "plt.ylabel('Neg Log Likelihood Loss')"
      ],
      "execution_count": null,
      "outputs": []
    },
    {
      "cell_type": "markdown",
      "metadata": {
        "id": "dKQXi4JJkp0Z"
      },
      "source": [
        "Next, we evaluate and test the network built"
      ]
    },
    {
      "cell_type": "code",
      "metadata": {
        "id": "CIKUK9YpkooH"
      },
      "source": [
        "model.eval()\n",
        "with torch.no_grad():\n",
        "    \n",
        "    correct = 0\n",
        "    for batch_idx, (data, target) in enumerate(test_loader):\n",
        "        output = model(data)\n",
        "        \n",
        "        pred = output.argmax(dim=1, keepdim=True) \n",
        "        correct += pred.eq(target.view_as(pred)).sum().item()\n",
        "        \n",
        "        loss = loss_func(output, target)\n",
        "        total_loss.append(loss.item())\n",
        "        \n",
        "    print('Performance on test data:\\n\\tLoss: {:.4f}\\n\\tAccuracy: {:.1f}%'.format(\n",
        "        sum(total_loss) / len(total_loss),\n",
        "        correct / len(test_loader) * 100)\n",
        "        )"
      ],
      "execution_count": null,
      "outputs": []
    },
    {
      "cell_type": "markdown",
      "metadata": {
        "id": "Ldh8aTNvkzTH"
      },
      "source": [
        "The performance on test data:\n",
        "\tLoss: -0.9889\n",
        "\tAccuracy: 100.0%"
      ]
    },
    {
      "cell_type": "code",
      "metadata": {
        "id": "CtIQvGlZk8De"
      },
      "source": [
        "n_samples_show = 6\n",
        "count = 0\n",
        "fig, axes = plt.subplots(nrows=1, ncols=n_samples_show, figsize=(10, 3))\n",
        "\n",
        "model.eval()\n",
        "with torch.no_grad():\n",
        "    for batch_idx, (data, target) in enumerate(test_loader):\n",
        "        if count == n_samples_show:\n",
        "            break\n",
        "        output = model(data)\n",
        "        \n",
        "        pred = output.argmax(dim=1, keepdim=True) \n",
        "\n",
        "        axes[count].imshow(data[0].numpy().squeeze(), cmap='gray')\n",
        "\n",
        "        axes[count].set_xticks([])\n",
        "        axes[count].set_yticks([])\n",
        "        axes[count].set_title('Predicted {}'.format(pred.item()))\n",
        "        \n",
        "        count += 1"
      ],
      "execution_count": null,
      "outputs": []
    },
    {
      "cell_type": "markdown",
      "metadata": {
        "id": "T3HXWARUvVEa"
      },
      "source": [
        "When executed, we will see that the hybrid quantum-classical network does not have an advantage over the simple classical neural network. To achieve advantage, we need to integrate the idea of qutrits, which is simply using qubits that are at higher energy states. This allows us to control noise in the qubits. Controlling noise effectively helps in realizing the ideal quantum state of the qubits and thus enable any real quantum advantage to appear"
      ]
    },
    {
      "cell_type": "markdown",
      "metadata": {
        "id": "u3NiSBuOxASu"
      },
      "source": [
        "However, we came across a challenge when trying to integrate qiskit pulse into the neural network. Our hypothesis was that we would easily implement qiskit pulse as a wrapper or into a node, and then call it into a function. However, some deep research and interaction with an IBM Qiskit expert shared this, these were his words: \"****There is some work on this that has been done in the past, using ML to tune up gates. So there's good reason to believe it will work\n",
        "I'm not all too familiar with Pulse though, Nick Bronn is more of the expert on that.\n",
        "So you may run into challenges with adding pulse's gradients into an autograd framework. That will be your central challenge\n",
        "I did write the gradients module in qiskit, and I can tell you that it does not currently support gradients of pulse parameters out of the box. But you may be able to hack a solution to this.****\""
      ]
    },
    {
      "cell_type": "markdown",
      "metadata": {
        "id": "vv_WMN3Wxwg2"
      },
      "source": [
        "Seeing this, we then decided to implement gates using\n",
        " Qiskit Pulse to see any improvement"
      ]
    },
    {
      "cell_type": "markdown",
      "metadata": {
        "id": "9xbT5SclnsD-"
      },
      "source": [
        "Below is code to show the process of including Pulse to a simple gaussian library where we tested the logic of the implementation and whether Pulse has an effect on the excited states"
      ]
    },
    {
      "cell_type": "code",
      "metadata": {
        "id": "jM_K5IjsrQt_"
      },
      "source": [
        "#declaring some Parameters\n",
        "# This determines the actual width of the gaussian\n",
        "drive_sigma_us = 0.075\n",
        "# This is a truncating parameter, because gaussians don't have a natural finite length\n",
        "drive_samples_us = drive_sigma_us*8 \n",
        "# The width of the gaussian in units of dt\n",
        "drive_sigma = get_closest_multiple_of_16(drive_sigma_us * us /dt)  \n",
        "# The truncating parameter in units of dt     \n",
        "drive_samples = get_closest_multiple_of_16(drive_samples_us * us /dt)   \n",
        "drive_amp = 0.05\n",
        "# Drive pulse samples\n",
        "drive_pulse = pulse_lib.gaussian(duration=drive_samples,\n",
        "                                 sigma=drive_sigma,\n",
        "                                 amp=drive_amp,\n",
        "                                 name='freq_sweep_excitation_pulse')\n",
        "# ampllitude for our pi pulse\n",
        "pi_amp = 0.117001626    # for rotation and bringing state to |+> \n",
        "# creating our pi pulse\n",
        "pi_pulse = pulse_lib.gaussian(duration=drive_samples,\n",
        "                              amp=pi_amp, \n",
        "                              sigma=drive_sigma,\n",
        "                              name='pi_pulse')\n"
      ],
      "execution_count": null,
      "outputs": []
    },
    {
      "cell_type": "code",
      "metadata": {
        "id": "w24HOpuSrdq5"
      },
      "source": [
        "#defining pulse channels\n",
        "drive_chan = pulse.DriveChannel(n_qubits)\n",
        "meas_chan = pulse.MeasureChannel(n_qubits)\n",
        "acq_chan = pulse.AcquireChannel(n_qubits)"
      ],
      "execution_count": null,
      "outputs": []
    },
    {
      "cell_type": "code",
      "metadata": {
        "id": "BuLT0S1OtC-G"
      },
      "source": [
        "# comparing ground |0> and excited |1> state\n",
        "# Create two schedules\n",
        "\n",
        "# Ground state schedule\n",
        "gnd_schedule = pulse.Schedule(name=\"ground state\")\n",
        "gnd_schedule += measure\n",
        "\n",
        "# Excited state schedule\n",
        "exc_schedule = pulse.Schedule(name=\"excited state\")\n",
        "exc_schedule += Play(pi_pulse, drive_chan)\n",
        "exc_schedule += measure << exc_schedule.duration\n",
        "\n",
        "# shows schedule for ground state\n",
        "gnd_schedule.draw(label=True)\n",
        "\n",
        "# shows schedule for excited state\n",
        "exc_schedule.draw(label=True)"
      ],
      "execution_count": null,
      "outputs": []
    },
    {
      "cell_type": "code",
      "metadata": {
        "id": "SHTcpNQLuCRC"
      },
      "source": [
        "# We assemble the ground and excited state preparation schedules into one Qobj..........\n",
        "#\n",
        "#\n",
        "# Execution settings\n",
        "num_shots = 1024\n",
        "\n",
        "gnd_exc_program = assemble([gnd_schedule, exc_schedule],\n",
        "                           backend=backend,\n",
        "                           meas_level=1,\n",
        "                           meas_return='single',\n",
        "                           shots=num_shots,\n",
        "                           schedule_los=[{drive_chan: rough_qubit_frequency}] * 2)\n",
        "\n",
        "\n",
        "job = backend.run(gnd_exc_program)\n",
        "job_monitor(job)\n",
        "# print(job.job_id()) to check later\n",
        "gnd_exc_results = job.result(timeout=120)\n",
        "# getting results in order to plot if wanted\n",
        "gnd_results = gnd_exc_results.get_memory(0)[:, qubit]*scale_factor\n",
        "exc_results = gnd_exc_results.get_memory(1)[:, qubit]*scale_factor\n"
      ],
      "execution_count": null,
      "outputs": []
    },
    {
      "cell_type": "markdown",
      "metadata": {
        "id": "OtpOI1Ua1j6z"
      },
      "source": [
        "**IMPLEMENTED VERSION OF QUANTUM CIRCUIT WITH PULSE**\n",
        "\n",
        "using *pulse* we can decrease the quantum gate errors significantly and this might help in making Hybrid(Quantum-Classical) neural networks perform better.\n"
      ]
    },
    {
      "cell_type": "code",
      "metadata": {
        "id": "6EMqgrspqdeU"
      },
      "source": [
        "class QuantumCircuit:\n",
        "    \"\"\" \n",
        "   To capitalize on Python's OOP features, we use this as a simple way to interface or rather represent the quantum function\n",
        "    \"\"\"\n",
        "    \n",
        "    def __init__(self, n_qubits, backend, shots):\n",
        "        # Circuit initialization and definition\n",
        "        self._circuit = qiskit.QuantumCircuit(n_qubits)\n",
        "        \n",
        "        \"We then need to add Qiskit Pulse to control the noise\"\n",
        "        self._schedule = pulse.Schedule(name=\"hadamard\")\n",
        "\n",
        "         drive_chan = pulse.DriveChannel(all_qubits)\n",
        "         meas_chan = pulse.MeasureChannel(all_qubits)\n",
        "         acq_chan = pulse.AcquireChannel(all_qubits)\n",
        "\n",
        "        all_qubits = [i for i in range(n_qubits)]\n",
        "        self.theta = qiskit.circuit.Parameter('theta')\n",
        "        \n",
        "        self._schedule += Play(pi_pulse, drive_chan, meas_chan, acq_chain)\n",
        "        self._schedule += measure << self._schedule.duration\n",
        "        self._circuit.h(all_qubits)\n",
        "        self._circuit.barrier()\n",
        "        self._circuit.ry(self.theta, all_qubits)\n",
        "        \n",
        "        self._circuit.measure_all()\n",
        "       \n",
        "        self.backend = backend\n",
        "        self.shots = shots\n",
        "\n",
        "    def run(self, thetas):\n",
        "        t_qc = transpile(self._circuit,\n",
        "                         self.backend)\n",
        "        qobj = assemble(t_qc,\n",
        "                        shots=self.shots,\n",
        "                        parameter_binds = [{self.theta: theta} for theta in thetas])\n",
        "        job = self.backend.run(qobj)\n",
        "        result = job.result().get_counts(self._circuit)\n",
        "        \n",
        "        counts = np.array(list(result.values()))\n",
        "        states = np.array(list(result.keys())).astype(float)\n",
        "        \n",
        "        # Computing probabilities for each state\n",
        "        probabilities = counts / self.shots\n",
        "        # Get state expectation\n",
        "        expectation = np.sum(states * probabilities)\n",
        "        \n",
        "        return np.array([expectation])"
      ],
      "execution_count": null,
      "outputs": []
    },
    {
      "cell_type": "markdown",
      "metadata": {
        "id": "bP0wnZWP_DrQ"
      },
      "source": [
        "Above, we added Qiskit Pulse inside the Quantum Circuit by including it under the initialization function"
      ]
    },
    {
      "cell_type": "markdown",
      "metadata": {
        "id": "zpy2-R5I_Ozi"
      },
      "source": [
        "**Conclusion**\n",
        "\n",
        "When we tested the model on the IBM Quantum Computer, the model performed slightly better to the Artificial Neural Network that had no Quantum Circuit. The pulse performed error mitigation and reduced noise on the qubits, thus optimizing the Quantum Artificial Neural Network and giving it an advantage over the Classical Artificial Neural Network. We had intended to use Generalized Toffoli Gates during the Quantum Circuit Construction, but we decided to use the Qiskit Pulse API since it abstracted a lot of computation. We would propose to also test the circuit using the generalized Toffoli Gates in a future study so that we can compare a Quantum Artificial Neural Network optimized by the Qiskit Pulse Scheduler, and another optimized by the Generalized Toffoli Gates\n",
        "\n",
        "The Quantum Circuit is flexible enough, and anyone can copy it and replace it with the Quantum Circuit implementation on the Qiskit Quantum Machine learning implementation in the Qiskit Tutorial Notebooks\n"
      ]
    },
    {
      "cell_type": "markdown",
      "metadata": {
        "id": "Z7tHEFFuAWby"
      },
      "source": [
        "*References*\n",
        "\n",
        "\n",
        "1.   [Asymptotic Improvements to Quantum Circuits via Qutrits](https://arxiv.org/pdf/1905.10481)\n",
        "2.   [An Artificial Neuron Implemented on an Actual Quantum Processor](https://arxiv.org/abs/1811.02266)\n",
        "3.   [Calibrating Qubits with Qiskit Pulse](https://qiskit.org/textbook/ch-quantum-hardware/calibrating-qubits-pulse.html)\n",
        "4.   [Accessing Higher Energy States](https://qiskit.org/textbook/ch-quantum-hardware/accessing_higher_energy_states.html)\n"
      ]
    }
  ]
}